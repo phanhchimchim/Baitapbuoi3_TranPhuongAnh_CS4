{
 "cells": [
  {
   "cell_type": "code",
   "execution_count": 7,
   "id": "ce10167b",
   "metadata": {},
   "outputs": [
    {
     "name": "stdout",
     "output_type": "stream",
     "text": [
      "Số đảo ngược là: 9765\n"
     ]
    }
   ],
   "source": [
    "#Bai 1\n",
    "n = int(input(\"Nhap so nguyen: \"))\n",
    "n_str = str(abs(n))\n",
    "reversed_str = n_str[::-1]\n",
    "if n < 0:\n",
    "    reversed_str = \"-\" + reversed_str\n",
    "\n",
    "print(\"Số đảo ngược là:\", reversed_str)\n",
    "\n"
   ]
  },
  {
   "cell_type": "code",
   "execution_count": null,
   "id": "ed939fbe",
   "metadata": {},
   "outputs": [],
   "source": [
    "a, b =map(float, input().split())\n"
   ]
  }
 ],
 "metadata": {
  "kernelspec": {
   "display_name": "Python 3",
   "language": "python",
   "name": "python3"
  },
  "language_info": {
   "codemirror_mode": {
    "name": "ipython",
    "version": 3
   },
   "file_extension": ".py",
   "mimetype": "text/x-python",
   "name": "python",
   "nbconvert_exporter": "python",
   "pygments_lexer": "ipython3",
   "version": "3.11.9"
  }
 },
 "nbformat": 4,
 "nbformat_minor": 5
}
