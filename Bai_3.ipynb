{
  "nbformat": 4,
  "nbformat_minor": 0,
  "metadata": {
    "colab": {
      "provenance": []
    },
    "kernelspec": {
      "name": "python3",
      "display_name": "Python 3"
    },
    "language_info": {
      "name": "python"
    }
  },
  "cells": [
    {
      "cell_type": "code",
      "execution_count": 1,
      "metadata": {
        "colab": {
          "base_uri": "https://localhost:8080/"
        },
        "id": "at1hv-e5eu8W",
        "outputId": "90f53afe-eef1-4127-eba2-3173cccf527c"
      },
      "outputs": [
        {
          "output_type": "stream",
          "name": "stdout",
          "text": [
            "Nhap so nguyen: 567\n",
            "Số đảo ngược là: 765\n"
          ]
        }
      ],
      "source": [
        "#Bai 1\n",
        "n = int(input(\"Nhap so nguyen: \"))\n",
        "n_str = str(abs(n))\n",
        "reversed_str = n_str[::-1]\n",
        "if n < 0:\n",
        "    reversed_str = \"-\" + reversed_str\n",
        "\n",
        "print(\"Số đảo ngược là:\", reversed_str)\n",
        "\n"
      ]
    }
  ]
}